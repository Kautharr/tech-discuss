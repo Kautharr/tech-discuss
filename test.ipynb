{
  "nbformat": 4,
  "nbformat_minor": 0,
  "metadata": {
    "colab": {
      "provenance": [],
      "authorship_tag": "ABX9TyNYyO2/0Di80+0g5J7/qz72",
      "include_colab_link": true
    },
    "kernelspec": {
      "name": "python3",
      "display_name": "Python 3"
    },
    "language_info": {
      "name": "python"
    }
  },
  "cells": [
    {
      "cell_type": "markdown",
      "metadata": {
        "id": "view-in-github",
        "colab_type": "text"
      },
      "source": [
        "<a href=\"https://colab.research.google.com/github/Kautharr/tech-discuss/blob/main/test.ipynb\" target=\"_parent\"><img src=\"https://colab.research.google.com/assets/colab-badge.svg\" alt=\"Open In Colab\"/></a>"
      ]
    },
    {
      "cell_type": "markdown",
      "source": [
        "## Technical Document Example"
      ],
      "metadata": {
        "id": "YXiY1K_PBmHX"
      }
    },
    {
      "cell_type": "code",
      "execution_count": 1,
      "metadata": {
        "colab": {
          "base_uri": "https://localhost:8080/"
        },
        "id": "DZ6PN-aDA1f6",
        "outputId": "4b4a0cbf-93f7-4694-ef8f-49b6083f04b0"
      },
      "outputs": [
        {
          "output_type": "execute_result",
          "data": {
            "text/plain": [
              "28"
            ]
          },
          "metadata": {},
          "execution_count": 1
        }
      ],
      "source": [
        "def mult(a,b):\n",
        "  return a*b\n",
        "mult(4,7)"
      ]
    },
    {
      "cell_type": "markdown",
      "source": [
        "## EDA"
      ],
      "metadata": {
        "id": "OLt4CCXEBvzZ"
      }
    },
    {
      "cell_type": "markdown",
      "source": [
        "### this is a markdown example\n",
        "* one\n",
        "* two"
      ],
      "metadata": {
        "id": "CWT2pERwCZ9A"
      }
    },
    {
      "cell_type": "markdown",
      "source": [
        "## Modeling"
      ],
      "metadata": {
        "id": "ZKz-IfvCB0PR"
      }
    },
    {
      "cell_type": "code",
      "source": [
        "# insert XGBoost"
      ],
      "metadata": {
        "id": "A2ugxz9jBw-7"
      },
      "execution_count": 5,
      "outputs": []
    },
    {
      "cell_type": "code",
      "source": [],
      "metadata": {
        "id": "PqlJfK1KBy0m"
      },
      "execution_count": null,
      "outputs": []
    }
  ]
}